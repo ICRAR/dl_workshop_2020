{
 "cells": [
  {
   "cell_type": "code",
   "execution_count": 1,
   "metadata": {
    "collapsed": false,
    "jupyter": {
     "outputs_hidden": false
    }
   },
   "outputs": [
    {
     "name": "stdout",
     "output_type": "stream",
     "text": [
      "Populating the interactive namespace from numpy and matplotlib\n"
     ]
    }
   ],
   "source": [
    "%pylab inline"
   ]
  },
  {
   "cell_type": "code",
   "execution_count": 2,
   "metadata": {
    "collapsed": false,
    "jupyter": {
     "outputs_hidden": false
    }
   },
   "outputs": [],
   "source": [
    "import mxnet as mx\n",
    "mx.npx.set_np()\n",
    "\n",
    "from mxnet import gluon, nd, image, autograd\n",
    "from mxnet.gluon.data.vision import transforms"
   ]
  },
  {
   "cell_type": "markdown",
   "metadata": {},
   "source": [
    "In case you don't recognize it, the image is a poorly-drawn airplane :)\n",
    "\n",
    "Now we define transformations for the image.\n",
    "\n"
   ]
  },
  {
   "cell_type": "code",
   "execution_count": 3,
   "metadata": {
    "collapsed": false,
    "jupyter": {
     "outputs_hidden": false
    }
   },
   "outputs": [],
   "source": [
    "batch_size = 128\n",
    "\n",
    "transform = transforms.Compose([\n",
    "    transforms.ToTensor(),\n",
    "    transforms.Normalize([0.4914, 0.4822, 0.4465], [0.2023, 0.1994, 0.2010])\n",
    "])\n",
    "\n",
    "transform_train = transforms.Compose([\n",
    "    # Randomly crop an area, and then resize it to be 32x32\n",
    "    transforms.RandomResizedCrop(32),\n",
    "    # Randomly flip the image horizontally\n",
    "    transforms.RandomFlipLeftRight(),\n",
    "    # Randomly jitter the brightness, contrast and saturation of the image\n",
    "    transforms.RandomColorJitter(brightness=0.1, contrast=0.1, saturation=0.1),\n",
    "    # Transpose the image from height*width*num_channels to num_channels*height*width\n",
    "    # and map values from [0, 255] to [0,1]\n",
    "    transforms.ToTensor(),\n",
    "    # Normalize the image with mean and standard deviation calculated across all images\n",
    "    transforms.Normalize([0.4914, 0.4822, 0.4465], [0.2023, 0.1994, 0.2010])\n",
    "])\n",
    "\n",
    "transform_test = transforms.Compose([\n",
    "    transforms.Resize(32),\n",
    "    transforms.ToTensor(),\n",
    "    transforms.Normalize([0.4914, 0.4822, 0.4465], [0.2023, 0.1994, 0.2010])\n",
    "])\n",
    "\n",
    "dataset_train = gluon.data.vision.CIFAR10(train=True).transform_first(transform_train)\n",
    "dataset_test = gluon.data.vision.CIFAR10(train=False).transform_first(transform_test)\n",
    "\n",
    "\n",
    "datagen_train = gluon.data.DataLoader(dataset_train,batch_size=batch_size,shuffle=True,num_workers=4)\n",
    "datagen_test = gluon.data.DataLoader(dataset_test,batch_size=batch_size,shuffle=False,num_workers=4)\n"
   ]
  },
  {
   "cell_type": "markdown",
   "metadata": {},
   "source": [
    "This transformation function does three things:\n",
    "resize and crop the image to 32x32 in size,\n",
    "transpose it to `num_channels x height x width`,\n",
    "and normalize with mean and standard deviation calculated across all CIFAR10 images."
   ]
  },
  {
   "cell_type": "code",
   "execution_count": 5,
   "metadata": {},
   "outputs": [],
   "source": [
    "ctx = mx.gpu() if mx.util.get_gpu_count() >0 else mx.cpu()"
   ]
  },
  {
   "cell_type": "code",
   "execution_count": 6,
   "metadata": {},
   "outputs": [
    {
     "name": "stdout",
     "output_type": "stream",
     "text": [
      "gpu(0)\n"
     ]
    }
   ],
   "source": [
    "print (ctx)"
   ]
  },
  {
   "cell_type": "code",
   "execution_count": 37,
   "metadata": {},
   "outputs": [],
   "source": [
    "from mxnet.gluon import HybridBlock\n",
    "from mxnet.gluon import nn as nn\n",
    "\n",
    "class Net(HybridBlock):\n",
    "    def __init__(self,**kwargs):\n",
    "        super().__init__(**kwargs)\n",
    "        \n",
    "        # Good book keeping practices\n",
    "        self.conv1 = nn.Conv2D(channels=6, kernel_size=5) # in_channels=3\n",
    "        self.pool  = nn.MaxPool2D(pool_size=(2,2))\n",
    "        self.conv2 = nn.Conv2D(channels=16, kernel_size=5) # in_channels=6\n",
    "        \n",
    "        self.flatten = nn.Flatten()\n",
    "        \n",
    "        self.fc1   = nn.Dense(units=120) # in_units = 16*5*5 \n",
    "        self.fc2   = nn.Dense(units=84) # in_units = 120\n",
    "        \n",
    "        # @@@@@@@@@@@ Here 10 represents the 10 classes of cifar10 @@@@@@@@@@\n",
    "        self.fc3  = gluon.nn.Dense(units=10) # in units = 84 \n",
    "\n",
    "    def forward(self,  x):\n",
    "        x = self.pool(mx.npx.relu(self.conv1(x)))\n",
    "        x = self.pool(mx.npx.relu(self.conv2(x)))\n",
    "        x = self.flatten(x) # transforms to x.shape[0], np.prod(x.shape[1:])\n",
    "        \n",
    "        x = mx.npx.relu(self.fc1(x))\n",
    "        x = mx.npx.relu(self.fc2(x))\n",
    "        x = self.fc3(x)\n",
    "        return x\n",
    "\n",
    "\n",
    "\n"
   ]
  },
  {
   "cell_type": "code",
   "execution_count": 38,
   "metadata": {},
   "outputs": [],
   "source": [
    "net = Net()\n",
    "# In mxnet you need to initialize the model expliclitely\n",
    "net.initialize(ctx=ctx)\n",
    "# In mxnet you can get ~ x3 speed if you hybridize\n",
    "net.hybridize() \n",
    "\n"
   ]
  },
  {
   "cell_type": "code",
   "execution_count": 39,
   "metadata": {},
   "outputs": [],
   "source": [
    "# Nesterov accelerated gradient descent\n",
    "optimizer = 'Adam'\n",
    "# Set parameters\n",
    "optimizer_params = {'learning_rate': 0.001}\n",
    "\n",
    "# Define our trainer for net\n",
    "trainer = gluon.Trainer(net.collect_params(), optimizer, optimizer_params)"
   ]
  },
  {
   "cell_type": "code",
   "execution_count": 40,
   "metadata": {},
   "outputs": [],
   "source": [
    "loss_fn = gluon.loss.SoftmaxCrossEntropyLoss()"
   ]
  },
  {
   "cell_type": "code",
   "execution_count": 41,
   "metadata": {},
   "outputs": [],
   "source": [
    "train_metric = gluon.metric.Accuracy()"
   ]
  },
  {
   "cell_type": "code",
   "execution_count": 45,
   "metadata": {},
   "outputs": [],
   "source": [
    "def test(ctx, val_data):\n",
    "    metric = gluon.metric.Accuracy()\n",
    "    for i, batch in enumerate(val_data):\n",
    "        #data = gluon.utils.split_and_load(batch[0], ctx_list=ctx, batch_axis=0)\n",
    "        data = batch[0].as_in_context(ctx)\n",
    "        label = batch[1]\n",
    "        # outputs = [net(X) for X in data]\n",
    "        #outputs = nd.concatenate(outputs,axis=0)\n",
    "        outputs = net(data)\n",
    "        metric.update(label, outputs)\n",
    "    return metric.get()"
   ]
  },
  {
   "cell_type": "code",
   "execution_count": 47,
   "metadata": {},
   "outputs": [
    {
     "name": "stdout",
     "output_type": "stream",
     "text": [
      "[Epoch 0] train accuracy=0.41272 val_accuracy=0.4853 loss=80895.16115570068 time=2.713114023208618\n",
      "[Epoch 1] train accuracy=0.42654 val_accuracy=0.5019 loss=79397.92932891846 time=2.8134663105010986\n",
      "[Epoch 2] train accuracy=0.43396 val_accuracy=0.5066 loss=78409.96029663086 time=2.704646110534668\n",
      "[Epoch 3] train accuracy=0.4417 val_accuracy=0.5109 loss=77225.24891662598 time=2.6612391471862793\n",
      "[Epoch 4] train accuracy=0.44934 val_accuracy=0.5337 loss=76299.92738342285 time=2.742936134338379\n",
      "[Epoch 5] train accuracy=0.45842 val_accuracy=0.533 loss=75349.93766784668 time=2.803588390350342\n",
      "[Epoch 6] train accuracy=0.46418 val_accuracy=0.5222 loss=74930.83156585693 time=2.8833534717559814\n",
      "[Epoch 7] train accuracy=0.47074 val_accuracy=0.5471 loss=74126.69990539551 time=2.9083962440490723\n",
      "[Epoch 8] train accuracy=0.47254 val_accuracy=0.5617 loss=73348.30010986328 time=2.9530951976776123\n",
      "[Epoch 9] train accuracy=0.4772 val_accuracy=0.5452 loss=72672.45819091797 time=2.9021899700164795\n"
     ]
    }
   ],
   "source": [
    "epochs = 10\n",
    "\n",
    "for epoch in range(epochs):\n",
    "    tic = time.time()\n",
    "    train_metric.reset()\n",
    "    train_loss = 0\n",
    "\n",
    "    # Loop through each batch of training data\n",
    "    for i, (data,label) in enumerate(datagen_train):\n",
    "        # Extract data and label\n",
    "        data = data.as_in_context(ctx)\n",
    "        label = label.as_in_context(ctx)\n",
    "\n",
    "        # AutoGrad\n",
    "        with autograd.record():\n",
    "            output = net(data)\n",
    "            loss = loss_fn(output, label)\n",
    "            \n",
    "        # Backpropagation\n",
    "        loss.backward()\n",
    "\n",
    "        # Optimize\n",
    "        trainer.step(batch_size) # This is the batch_size\n",
    "\n",
    "        # Update metrics\n",
    "        train_loss += loss.sum().item() \n",
    "        train_metric.update(label, output)\n",
    "\n",
    "    name, acc = train_metric.get()\n",
    "    # Evaluate on Validation data\n",
    "    name, val_acc = test(ctx, datagen_test)\n",
    "\n",
    "    # Update history and print metrics\n",
    "    print('[Epoch {}] train accuracy={} val_accuracy={} loss={} time={}'.format(epoch, acc, val_acc, train_loss, time.time()-tic))\n"
   ]
  },
  {
   "cell_type": "markdown",
   "metadata": {},
   "source": [
    "# if you want to save/load your network"
   ]
  },
  {
   "cell_type": "code",
   "execution_count": null,
   "metadata": {},
   "outputs": [],
   "source": [
    "net.save_parameters('dive_deep_cifar10_resnet20_v2.params') # save\n",
    "# net.load_parameters('dive_deep_cifar10_resnet20_v2.params', ctx=ctx) # load "
   ]
  },
  {
   "cell_type": "markdown",
   "metadata": {},
   "source": [
    "## MultiGPU example"
   ]
  },
  {
   "cell_type": "code",
   "execution_count": 48,
   "metadata": {},
   "outputs": [],
   "source": [
    "# Change context to a list of mx contexts\n",
    "\n",
    "# number of GPUs to use\n",
    "num_gpus = mx.util.get_gpu_count()\n",
    "ctx = [mx.gpu(i) for i in range(num_gpus)]"
   ]
  },
  {
   "cell_type": "markdown",
   "metadata": {},
   "source": [
    "# Initialize again net and trainer in a multigpu context"
   ]
  },
  {
   "cell_type": "code",
   "execution_count": 49,
   "metadata": {},
   "outputs": [],
   "source": [
    "net = Net()\n",
    "# In mxnet you need to initialize the model expliclitely\n",
    "net.initialize(ctx=ctx)\n",
    "# In mxnet you can get ~ x3 speed if you hybridize\n",
    "net.hybridize() \n",
    "\n",
    "# Initialize trainer \n",
    "trainer = gluon.Trainer(net.collect_params(), optimizer, optimizer_params)\n"
   ]
  },
  {
   "cell_type": "code",
   "execution_count": 50,
   "metadata": {},
   "outputs": [],
   "source": [
    "def test(ctx, val_data):\n",
    "    metric = gluon.metric.Accuracy()\n",
    "    for i, batch in enumerate(val_data):\n",
    "        # split in a list of mx.np.arrays \n",
    "        data = gluon.utils.split_and_load(batch[0], ctx_list=ctx, batch_axis=0)\n",
    "        label = batch[1]\n",
    "        outputs = [net(X) for X in data]\n",
    "        outputs = mx.np.concatenate(outputs,axis=0) # concatenate outputs along batch dimension\n",
    "        metric.update(label, outputs)\n",
    "    return metric.get()"
   ]
  },
  {
   "cell_type": "code",
   "execution_count": 53,
   "metadata": {},
   "outputs": [
    {
     "name": "stdout",
     "output_type": "stream",
     "text": [
      "[Epoch 0] train=0.274440 val=0.387500 loss=97386.380310 time: 2.744569\n",
      "[Epoch 1] train=0.346940 val=0.438300 loss=88356.218491 time: 2.793489\n",
      "[Epoch 2] train=0.376180 val=0.472200 loss=84577.858002 time: 2.752750\n"
     ]
    }
   ],
   "source": [
    "epochs = 3\n",
    "\n",
    "for epoch in range(epochs):\n",
    "    tic = time.time()\n",
    "    train_metric.reset()\n",
    "    train_loss = 0\n",
    "\n",
    "    # Loop through each batch of training data\n",
    "    for i, batch in enumerate(datagen_train):\n",
    "        # Extract data and label\n",
    "        data = gluon.utils.split_and_load(batch[0], ctx_list=ctx, batch_axis=0)\n",
    "        label = gluon.utils.split_and_load(batch[1], ctx_list=ctx, batch_axis=0)\n",
    "\n",
    "        # AutoGrad\n",
    "        with autograd.record():\n",
    "            output = [net(X) for X in data]\n",
    "            loss = [loss_fn(yhat, y) for yhat, y in zip(output, label)]\n",
    "\n",
    "        # Backpropagation\n",
    "        for l in loss:\n",
    "            l.backward()\n",
    "\n",
    "        # Optimize\n",
    "        trainer.step(batch_size)\n",
    "\n",
    "        # Update metrics\n",
    "        # Now loss is a list of outputs!!!\n",
    "        train_loss += sum([l.sum().item() for l in loss])\n",
    "        train_metric.update(label, output)\n",
    "\n",
    "    name, acc = train_metric.get()\n",
    "    # Evaluate on Validation data\n",
    "    name, val_acc = test(ctx, datagen_test)\n",
    "\n",
    "    # Update history and print metrics\n",
    "    print('[Epoch %d] train=%f val=%f loss=%f time: %f' %\n",
    "        (epoch, acc, val_acc, train_loss, time.time()-tic))\n",
    "\n"
   ]
  },
  {
   "cell_type": "code",
   "execution_count": null,
   "metadata": {},
   "outputs": [],
   "source": []
  },
  {
   "cell_type": "code",
   "execution_count": null,
   "metadata": {},
   "outputs": [],
   "source": []
  }
 ],
 "metadata": {
  "kernelspec": {
   "display_name": "Python 3",
   "language": "python",
   "name": "python3"
  },
  "language_info": {
   "codemirror_mode": {
    "name": "ipython",
    "version": 3
   },
   "file_extension": ".py",
   "mimetype": "text/x-python",
   "name": "python",
   "nbconvert_exporter": "python",
   "pygments_lexer": "ipython3",
   "version": "3.8.5"
  }
 },
 "nbformat": 4,
 "nbformat_minor": 4
}
