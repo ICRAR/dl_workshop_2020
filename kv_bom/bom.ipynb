{
 "cells": [
  {
   "cell_type": "markdown",
   "metadata": {
    "collapsed": true,
    "pycharm": {
     "name": "#%% md\n"
    }
   },
   "source": [
    "# Predicting swell\n",
    "\n",
    "1. Data\n",
    "  * Wave parameters\n",
    "  * Spectra\n",
    "\n",
    "1. Data preparation\n",
    "1. Models\n",
    " * GRU\n",
    " * CNN1D\n",
    " * ResNet\n",
    " * Dense\n",
    " * Ensemble\n",
    "\n",
    "1. S3 options\n",
    "1. Early stopping\n",
    "1. Learning Area Reduction\n",
    "1. Running in BoM"
   ]
  }
 ],
 "metadata": {
  "kernelspec": {
   "display_name": "Python 3",
   "language": "python",
   "name": "python3"
  },
  "language_info": {
   "codemirror_mode": {
    "name": "ipython",
    "version": 2
   },
   "file_extension": ".py",
   "mimetype": "text/x-python",
   "name": "python",
   "nbconvert_exporter": "python",
   "pygments_lexer": "ipython2",
   "version": "2.7.6"
  }
 },
 "nbformat": 4,
 "nbformat_minor": 0
}