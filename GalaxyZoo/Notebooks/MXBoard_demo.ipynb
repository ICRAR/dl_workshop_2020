{
 "cells": [
  {
   "cell_type": "code",
   "execution_count": 1,
   "metadata": {},
   "outputs": [
    {
     "name": "stdout",
     "output_type": "stream",
     "text": [
      "Populating the interactive namespace from numpy and matplotlib\n"
     ]
    }
   ],
   "source": [
    "%pylab inline"
   ]
  },
  {
   "cell_type": "code",
   "execution_count": 2,
   "metadata": {},
   "outputs": [],
   "source": [
    "import mxnet as mx\n",
    "mx.npx.set_np()\n",
    "import sys\n",
    "sys.path.append(r'/home/foivos/Projects/dl_workshop_2020/')"
   ]
  },
  {
   "cell_type": "code",
   "execution_count": 3,
   "metadata": {},
   "outputs": [],
   "source": [
    "from mxboard import SummaryWriter"
   ]
  },
  {
   "cell_type": "code",
   "execution_count": 4,
   "metadata": {},
   "outputs": [],
   "source": [
    "from GalaxyZoo.mxnet.models.heads.GZooHEAD import *"
   ]
  },
  {
   "cell_type": "code",
   "execution_count": 5,
   "metadata": {},
   "outputs": [],
   "source": [
    "net = GZooHEAD()\n",
    "net.initialize()\n",
    "net.hybridize()"
   ]
  },
  {
   "cell_type": "code",
   "execution_count": 6,
   "metadata": {},
   "outputs": [],
   "source": [
    "xx = mx.np.random.rand(3,512*16*16)"
   ]
  },
  {
   "cell_type": "code",
   "execution_count": 23,
   "metadata": {},
   "outputs": [
    {
     "name": "stdout",
     "output_type": "stream",
     "text": [
      "--------------------------------------------------------------------------------\n",
      "        Layer (type)                                Output Shape         Param #\n",
      "================================================================================\n",
      "               Input                                 (3, 131072)               0\n",
      "             Dense-1                                    (3, 512)        67108864\n",
      "         BatchNorm-2                                    (3, 512)            2048\n",
      "       DenseNormed-3                                    (3, 512)               0\n",
      "             Dense-4                                      (3, 3)            1539\n",
      "     GZooHEADLayer-5                                      (3, 3)               0\n",
      "             Dense-6                                    (3, 512)            2048\n",
      "             Dense-7                                    (3, 512)        67371008\n",
      "         BatchNorm-8                                    (3, 512)            2048\n",
      "       DenseNormed-9                                    (3, 512)               0\n",
      "            Dense-10                                      (3, 2)            1026\n",
      "    GZooHEADLayer-11                                      (3, 2)               0\n",
      "            Dense-12                                    (3, 512)            1536\n",
      "            Dense-13                                    (3, 512)        67371008\n",
      "        BatchNorm-14                                    (3, 512)            2048\n",
      "      DenseNormed-15                                    (3, 512)               0\n",
      "            Dense-16                                      (3, 2)            1026\n",
      "    GZooHEADLayer-17                                      (3, 2)               0\n",
      "            Dense-18                                    (3, 512)            1536\n",
      "            Dense-19                                    (3, 512)        67371008\n",
      "        BatchNorm-20                                    (3, 512)            2048\n",
      "      DenseNormed-21                                    (3, 512)               0\n",
      "            Dense-22                                      (3, 2)            1026\n",
      "    GZooHEADLayer-23                                      (3, 2)               0\n",
      "            Dense-24                                    (3, 512)            1536\n",
      "            Dense-25                                    (3, 512)        67371008\n",
      "        BatchNorm-26                                    (3, 512)            2048\n",
      "      DenseNormed-27                                    (3, 512)               0\n",
      "            Dense-28                                      (3, 3)            1539\n",
      "    GZooHEADLayer-29                                      (3, 3)               0\n",
      "            Dense-30                                    (3, 512)            2048\n",
      "            Dense-31                                    (3, 512)        67371008\n",
      "        BatchNorm-32                                    (3, 512)            2048\n",
      "      DenseNormed-33                                    (3, 512)               0\n",
      "            Dense-34                                      (3, 6)            3078\n",
      "    GZooHEADLayer-35                                      (3, 6)               0\n",
      "            Dense-36                                    (3, 512)            3584\n",
      "            Dense-37                                    (3, 512)        67633152\n",
      "        BatchNorm-38                                    (3, 512)            2048\n",
      "      DenseNormed-39                                    (3, 512)               0\n",
      "            Dense-40                                      (3, 4)            2052\n",
      "    GZooHEADLayer-41                                      (3, 4)               0\n",
      "            Dense-42                                    (3, 512)        67371008\n",
      "        BatchNorm-43                                    (3, 512)            2048\n",
      "      DenseNormed-44                                    (3, 512)               0\n",
      "            Dense-45                                      (3, 3)            1539\n",
      "    GZooHEADLayer-46                                      (3, 3)               0\n",
      "            Dense-47                                    (3, 512)            2048\n",
      "            Dense-48                                    (3, 512)        67371008\n",
      "        BatchNorm-49                                    (3, 512)            2048\n",
      "      DenseNormed-50                                    (3, 512)               0\n",
      "            Dense-51                                      (3, 3)            1539\n",
      "    GZooHEADLayer-52                                      (3, 3)               0\n",
      "            Dense-53                                    (3, 512)            2048\n",
      "            Dense-54                                    (3, 512)        67633152\n",
      "        BatchNorm-55                                    (3, 512)            2048\n",
      "      DenseNormed-56                                    (3, 512)               0\n",
      "            Dense-57                                      (3, 2)            1026\n",
      "    GZooHEADLayer-58                                      (3, 2)               0\n",
      "            Dense-59                                    (3, 512)            1536\n",
      "            Dense-60                                    (3, 512)        67371008\n",
      "        BatchNorm-61                                    (3, 512)            2048\n",
      "      DenseNormed-62                                    (3, 512)               0\n",
      "            Dense-63                                      (3, 7)            3591\n",
      "    GZooHEADLayer-64                                      (3, 7)               0\n",
      "         GZooHEAD-65                                     (3, 37)               0\n",
      "================================================================================\n",
      "Parameters in forward computation graph, duplicate included\n",
      "   Total params: 741402661\n",
      "   Trainable params: 741391397\n",
      "   Non-trainable params: 11264\n",
      "Shared params in forward computation graph: 0\n",
      "Unique parameters in model: 741402661\n",
      "--------------------------------------------------------------------------------\n"
     ]
    }
   ],
   "source": [
    "#net.summary(xx)"
   ]
  },
  {
   "cell_type": "code",
   "execution_count": 7,
   "metadata": {},
   "outputs": [],
   "source": [
    "out = net(xx)"
   ]
  },
  {
   "cell_type": "code",
   "execution_count": 8,
   "metadata": {},
   "outputs": [
    {
     "name": "stderr",
     "output_type": "stream",
     "text": [
      "INFO:mxboard.event_file_writer:successfully opened events file: ./logs/events.out.tfevents.1602069311.DEP59910\n",
      "INFO:mxboard.event_file_writer:wrote 1 event to disk\n",
      "INFO:mxboard.event_file_writer:wrote 1 event to disk\n"
     ]
    }
   ],
   "source": [
    "with SummaryWriter(logdir='./logs') as sw:\n",
    "    sw.add_graph(net)"
   ]
  },
  {
   "cell_type": "code",
   "execution_count": 7,
   "metadata": {},
   "outputs": [],
   "source": [
    "from mxprosthesis.nn.units.ceecnet import *"
   ]
  },
  {
   "cell_type": "code",
   "execution_count": 5,
   "metadata": {},
   "outputs": [],
   "source": [
    "net = FracTALResNet_unit(nfilters=32,ftdepth=6)\n",
    "net.initialize()\n",
    "net.hybridize()\n",
    "xx = mx.np.random.rand(3,32,16,16)\n",
    "out = net(xx)"
   ]
  },
  {
   "cell_type": "code",
   "execution_count": 6,
   "metadata": {},
   "outputs": [
    {
     "name": "stderr",
     "output_type": "stream",
     "text": [
      "INFO:mxboard.event_file_writer:successfully opened events file: ./logs/events.out.tfevents.1602069810.DEP59910\n",
      "INFO:mxboard.event_file_writer:wrote 1 event to disk\n",
      "INFO:mxboard.event_file_writer:wrote 1 event to disk\n"
     ]
    }
   ],
   "source": [
    "with SummaryWriter(logdir='./logs') as sw:\n",
    "    sw.add_graph(net)"
   ]
  },
  {
   "cell_type": "code",
   "execution_count": 8,
   "metadata": {},
   "outputs": [],
   "source": [
    "net = CEEC_unit_v2(nfilters=32,ftdepth=6)\n",
    "net.initialize()\n",
    "net.hybridize()\n",
    "xx = mx.np.random.rand(3,32,16,16)\n",
    "out = net(xx)"
   ]
  },
  {
   "cell_type": "code",
   "execution_count": 9,
   "metadata": {},
   "outputs": [
    {
     "name": "stderr",
     "output_type": "stream",
     "text": [
      "INFO:mxboard.event_file_writer:successfully opened events file: ./logs/events.out.tfevents.1602069944.DEP59910\n",
      "INFO:mxboard.event_file_writer:wrote 1 event to disk\n",
      "INFO:mxboard.event_file_writer:wrote 1 event to disk\n"
     ]
    }
   ],
   "source": [
    "with SummaryWriter(logdir='./logs') as sw:\n",
    "    sw.add_graph(net)"
   ]
  },
  {
   "cell_type": "code",
   "execution_count": null,
   "metadata": {},
   "outputs": [],
   "source": []
  }
 ],
 "metadata": {
  "kernelspec": {
   "display_name": "Python 3",
   "language": "python",
   "name": "python3"
  },
  "language_info": {
   "codemirror_mode": {
    "name": "ipython",
    "version": 3
   },
   "file_extension": ".py",
   "mimetype": "text/x-python",
   "name": "python",
   "nbconvert_exporter": "python",
   "pygments_lexer": "ipython3",
   "version": "3.8.5"
  }
 },
 "nbformat": 4,
 "nbformat_minor": 4
}
